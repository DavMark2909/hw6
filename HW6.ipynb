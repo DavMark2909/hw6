{
  "cells": [
    {
      "cell_type": "code",
      "execution_count": 1,
      "metadata": {
        "colab": {
          "base_uri": "https://localhost:8080/",
          "height": 419
        },
        "id": "mCJhbn2pU3Fb",
        "outputId": "0ec477ab-e19b-4eef-8c50-990359d8d93a"
      },
      "outputs": [
        {
          "data": {
            "text/html": [
              "\n",
              "  <div id=\"df-de132239-fc00-4507-88a6-51850eeb7066\" class=\"colab-df-container\">\n",
              "    <div>\n",
              "<style scoped>\n",
              "    .dataframe tbody tr th:only-of-type {\n",
              "        vertical-align: middle;\n",
              "    }\n",
              "\n",
              "    .dataframe tbody tr th {\n",
              "        vertical-align: top;\n",
              "    }\n",
              "\n",
              "    .dataframe thead th {\n",
              "        text-align: right;\n",
              "    }\n",
              "</style>\n",
              "<table border=\"1\" class=\"dataframe\">\n",
              "  <thead>\n",
              "    <tr style=\"text-align: right;\">\n",
              "      <th></th>\n",
              "      <th>year</th>\n",
              "      <th>bed</th>\n",
              "      <th>bath</th>\n",
              "      <th>sqft</th>\n",
              "      <th>price</th>\n",
              "    </tr>\n",
              "  </thead>\n",
              "  <tbody>\n",
              "    <tr>\n",
              "      <th>0</th>\n",
              "      <td>1958</td>\n",
              "      <td>3</td>\n",
              "      <td>1.5</td>\n",
              "      <td>3110</td>\n",
              "      <td>236900</td>\n",
              "    </tr>\n",
              "    <tr>\n",
              "      <th>1</th>\n",
              "      <td>1989</td>\n",
              "      <td>3</td>\n",
              "      <td>1.5</td>\n",
              "      <td>3120</td>\n",
              "      <td>291900</td>\n",
              "    </tr>\n",
              "    <tr>\n",
              "      <th>2</th>\n",
              "      <td>2020</td>\n",
              "      <td>2</td>\n",
              "      <td>1.0</td>\n",
              "      <td>2010</td>\n",
              "      <td>241500</td>\n",
              "    </tr>\n",
              "    <tr>\n",
              "      <th>3</th>\n",
              "      <td>2014</td>\n",
              "      <td>3</td>\n",
              "      <td>1.5</td>\n",
              "      <td>2650</td>\n",
              "      <td>281400</td>\n",
              "    </tr>\n",
              "    <tr>\n",
              "      <th>4</th>\n",
              "      <td>1984</td>\n",
              "      <td>2</td>\n",
              "      <td>1.5</td>\n",
              "      <td>1530</td>\n",
              "      <td>137500</td>\n",
              "    </tr>\n",
              "    <tr>\n",
              "      <th>...</th>\n",
              "      <td>...</td>\n",
              "      <td>...</td>\n",
              "      <td>...</td>\n",
              "      <td>...</td>\n",
              "      <td>...</td>\n",
              "    </tr>\n",
              "    <tr>\n",
              "      <th>495</th>\n",
              "      <td>1992</td>\n",
              "      <td>2</td>\n",
              "      <td>1.5</td>\n",
              "      <td>1670</td>\n",
              "      <td>172800</td>\n",
              "    </tr>\n",
              "    <tr>\n",
              "      <th>496</th>\n",
              "      <td>2020</td>\n",
              "      <td>3</td>\n",
              "      <td>1.5</td>\n",
              "      <td>3140</td>\n",
              "      <td>377800</td>\n",
              "    </tr>\n",
              "    <tr>\n",
              "      <th>497</th>\n",
              "      <td>2000</td>\n",
              "      <td>3</td>\n",
              "      <td>1.5</td>\n",
              "      <td>2290</td>\n",
              "      <td>236000</td>\n",
              "    </tr>\n",
              "    <tr>\n",
              "      <th>498</th>\n",
              "      <td>2020</td>\n",
              "      <td>2</td>\n",
              "      <td>1.5</td>\n",
              "      <td>2050</td>\n",
              "      <td>252200</td>\n",
              "    </tr>\n",
              "    <tr>\n",
              "      <th>499</th>\n",
              "      <td>2014</td>\n",
              "      <td>3</td>\n",
              "      <td>1.5</td>\n",
              "      <td>3080</td>\n",
              "      <td>356100</td>\n",
              "    </tr>\n",
              "  </tbody>\n",
              "</table>\n",
              "<p>500 rows × 5 columns</p>\n",
              "</div>\n",
              "    <div class=\"colab-df-buttons\">\n",
              "\n",
              "  <div class=\"colab-df-container\">\n",
              "    <button class=\"colab-df-convert\" onclick=\"convertToInteractive('df-de132239-fc00-4507-88a6-51850eeb7066')\"\n",
              "            title=\"Convert this dataframe to an interactive table.\"\n",
              "            style=\"display:none;\">\n",
              "\n",
              "  <svg xmlns=\"http://www.w3.org/2000/svg\" height=\"24px\" viewBox=\"0 -960 960 960\">\n",
              "    <path d=\"M120-120v-720h720v720H120Zm60-500h600v-160H180v160Zm220 220h160v-160H400v160Zm0 220h160v-160H400v160ZM180-400h160v-160H180v160Zm440 0h160v-160H620v160ZM180-180h160v-160H180v160Zm440 0h160v-160H620v160Z\"/>\n",
              "  </svg>\n",
              "    </button>\n",
              "\n",
              "  <style>\n",
              "    .colab-df-container {\n",
              "      display:flex;\n",
              "      gap: 12px;\n",
              "    }\n",
              "\n",
              "    .colab-df-convert {\n",
              "      background-color: #E8F0FE;\n",
              "      border: none;\n",
              "      border-radius: 50%;\n",
              "      cursor: pointer;\n",
              "      display: none;\n",
              "      fill: #1967D2;\n",
              "      height: 32px;\n",
              "      padding: 0 0 0 0;\n",
              "      width: 32px;\n",
              "    }\n",
              "\n",
              "    .colab-df-convert:hover {\n",
              "      background-color: #E2EBFA;\n",
              "      box-shadow: 0px 1px 2px rgba(60, 64, 67, 0.3), 0px 1px 3px 1px rgba(60, 64, 67, 0.15);\n",
              "      fill: #174EA6;\n",
              "    }\n",
              "\n",
              "    .colab-df-buttons div {\n",
              "      margin-bottom: 4px;\n",
              "    }\n",
              "\n",
              "    [theme=dark] .colab-df-convert {\n",
              "      background-color: #3B4455;\n",
              "      fill: #D2E3FC;\n",
              "    }\n",
              "\n",
              "    [theme=dark] .colab-df-convert:hover {\n",
              "      background-color: #434B5C;\n",
              "      box-shadow: 0px 1px 3px 1px rgba(0, 0, 0, 0.15);\n",
              "      filter: drop-shadow(0px 1px 2px rgba(0, 0, 0, 0.3));\n",
              "      fill: #FFFFFF;\n",
              "    }\n",
              "  </style>\n",
              "\n",
              "    <script>\n",
              "      const buttonEl =\n",
              "        document.querySelector('#df-de132239-fc00-4507-88a6-51850eeb7066 button.colab-df-convert');\n",
              "      buttonEl.style.display =\n",
              "        google.colab.kernel.accessAllowed ? 'block' : 'none';\n",
              "\n",
              "      async function convertToInteractive(key) {\n",
              "        const element = document.querySelector('#df-de132239-fc00-4507-88a6-51850eeb7066');\n",
              "        const dataTable =\n",
              "          await google.colab.kernel.invokeFunction('convertToInteractive',\n",
              "                                                    [key], {});\n",
              "        if (!dataTable) return;\n",
              "\n",
              "        const docLinkHtml = 'Like what you see? Visit the ' +\n",
              "          '<a target=\"_blank\" href=https://colab.research.google.com/notebooks/data_table.ipynb>data table notebook</a>'\n",
              "          + ' to learn more about interactive tables.';\n",
              "        element.innerHTML = '';\n",
              "        dataTable['output_type'] = 'display_data';\n",
              "        await google.colab.output.renderOutput(dataTable, element);\n",
              "        const docLink = document.createElement('div');\n",
              "        docLink.innerHTML = docLinkHtml;\n",
              "        element.appendChild(docLink);\n",
              "      }\n",
              "    </script>\n",
              "  </div>\n",
              "\n",
              "\n",
              "<div id=\"df-a37f1929-4e8d-4bd6-88b0-97b1504769e2\">\n",
              "  <button class=\"colab-df-quickchart\" onclick=\"quickchart('df-a37f1929-4e8d-4bd6-88b0-97b1504769e2')\"\n",
              "            title=\"Suggest charts\"\n",
              "            style=\"display:none;\">\n",
              "\n",
              "<svg xmlns=\"http://www.w3.org/2000/svg\" height=\"24px\"viewBox=\"0 0 24 24\"\n",
              "     width=\"24px\">\n",
              "    <g>\n",
              "        <path d=\"M19 3H5c-1.1 0-2 .9-2 2v14c0 1.1.9 2 2 2h14c1.1 0 2-.9 2-2V5c0-1.1-.9-2-2-2zM9 17H7v-7h2v7zm4 0h-2V7h2v10zm4 0h-2v-4h2v4z\"/>\n",
              "    </g>\n",
              "</svg>\n",
              "  </button>\n",
              "\n",
              "<style>\n",
              "  .colab-df-quickchart {\n",
              "      --bg-color: #E8F0FE;\n",
              "      --fill-color: #1967D2;\n",
              "      --hover-bg-color: #E2EBFA;\n",
              "      --hover-fill-color: #174EA6;\n",
              "      --disabled-fill-color: #AAA;\n",
              "      --disabled-bg-color: #DDD;\n",
              "  }\n",
              "\n",
              "  [theme=dark] .colab-df-quickchart {\n",
              "      --bg-color: #3B4455;\n",
              "      --fill-color: #D2E3FC;\n",
              "      --hover-bg-color: #434B5C;\n",
              "      --hover-fill-color: #FFFFFF;\n",
              "      --disabled-bg-color: #3B4455;\n",
              "      --disabled-fill-color: #666;\n",
              "  }\n",
              "\n",
              "  .colab-df-quickchart {\n",
              "    background-color: var(--bg-color);\n",
              "    border: none;\n",
              "    border-radius: 50%;\n",
              "    cursor: pointer;\n",
              "    display: none;\n",
              "    fill: var(--fill-color);\n",
              "    height: 32px;\n",
              "    padding: 0;\n",
              "    width: 32px;\n",
              "  }\n",
              "\n",
              "  .colab-df-quickchart:hover {\n",
              "    background-color: var(--hover-bg-color);\n",
              "    box-shadow: 0 1px 2px rgba(60, 64, 67, 0.3), 0 1px 3px 1px rgba(60, 64, 67, 0.15);\n",
              "    fill: var(--button-hover-fill-color);\n",
              "  }\n",
              "\n",
              "  .colab-df-quickchart-complete:disabled,\n",
              "  .colab-df-quickchart-complete:disabled:hover {\n",
              "    background-color: var(--disabled-bg-color);\n",
              "    fill: var(--disabled-fill-color);\n",
              "    box-shadow: none;\n",
              "  }\n",
              "\n",
              "  .colab-df-spinner {\n",
              "    border: 2px solid var(--fill-color);\n",
              "    border-color: transparent;\n",
              "    border-bottom-color: var(--fill-color);\n",
              "    animation:\n",
              "      spin 1s steps(1) infinite;\n",
              "  }\n",
              "\n",
              "  @keyframes spin {\n",
              "    0% {\n",
              "      border-color: transparent;\n",
              "      border-bottom-color: var(--fill-color);\n",
              "      border-left-color: var(--fill-color);\n",
              "    }\n",
              "    20% {\n",
              "      border-color: transparent;\n",
              "      border-left-color: var(--fill-color);\n",
              "      border-top-color: var(--fill-color);\n",
              "    }\n",
              "    30% {\n",
              "      border-color: transparent;\n",
              "      border-left-color: var(--fill-color);\n",
              "      border-top-color: var(--fill-color);\n",
              "      border-right-color: var(--fill-color);\n",
              "    }\n",
              "    40% {\n",
              "      border-color: transparent;\n",
              "      border-right-color: var(--fill-color);\n",
              "      border-top-color: var(--fill-color);\n",
              "    }\n",
              "    60% {\n",
              "      border-color: transparent;\n",
              "      border-right-color: var(--fill-color);\n",
              "    }\n",
              "    80% {\n",
              "      border-color: transparent;\n",
              "      border-right-color: var(--fill-color);\n",
              "      border-bottom-color: var(--fill-color);\n",
              "    }\n",
              "    90% {\n",
              "      border-color: transparent;\n",
              "      border-bottom-color: var(--fill-color);\n",
              "    }\n",
              "  }\n",
              "</style>\n",
              "\n",
              "  <script>\n",
              "    async function quickchart(key) {\n",
              "      const quickchartButtonEl =\n",
              "        document.querySelector('#' + key + ' button');\n",
              "      quickchartButtonEl.disabled = true;  // To prevent multiple clicks.\n",
              "      quickchartButtonEl.classList.add('colab-df-spinner');\n",
              "      try {\n",
              "        const charts = await google.colab.kernel.invokeFunction(\n",
              "            'suggestCharts', [key], {});\n",
              "      } catch (error) {\n",
              "        console.error('Error during call to suggestCharts:', error);\n",
              "      }\n",
              "      quickchartButtonEl.classList.remove('colab-df-spinner');\n",
              "      quickchartButtonEl.classList.add('colab-df-quickchart-complete');\n",
              "    }\n",
              "    (() => {\n",
              "      let quickchartButtonEl =\n",
              "        document.querySelector('#df-a37f1929-4e8d-4bd6-88b0-97b1504769e2 button');\n",
              "      quickchartButtonEl.style.display =\n",
              "        google.colab.kernel.accessAllowed ? 'block' : 'none';\n",
              "    })();\n",
              "  </script>\n",
              "</div>\n",
              "    </div>\n",
              "  </div>\n"
            ],
            "text/plain": [
              "     year  bed  bath  sqft   price\n",
              "0    1958    3   1.5  3110  236900\n",
              "1    1989    3   1.5  3120  291900\n",
              "2    2020    2   1.0  2010  241500\n",
              "3    2014    3   1.5  2650  281400\n",
              "4    1984    2   1.5  1530  137500\n",
              "..    ...  ...   ...   ...     ...\n",
              "495  1992    2   1.5  1670  172800\n",
              "496  2020    3   1.5  3140  377800\n",
              "497  2000    3   1.5  2290  236000\n",
              "498  2020    2   1.5  2050  252200\n",
              "499  2014    3   1.5  3080  356100\n",
              "\n",
              "[500 rows x 5 columns]"
            ]
          },
          "execution_count": 1,
          "metadata": {},
          "output_type": "execute_result"
        }
      ],
      "source": [
        "import numpy as np\n",
        "import pandas as pd\n",
        "import matplotlib.pyplot as plt\n",
        "from sklearn.linear_model import LinearRegression\n",
        "\n",
        "salary_df=pd.read_csv('real_estate_data.csv')\n",
        "salary_df"
      ]
    },
    {
      "cell_type": "code",
      "execution_count": null,
      "metadata": {},
      "outputs": [],
      "source": [
        "print(\"hellp world\")"
      ]
    },
    {
      "cell_type": "code",
      "execution_count": 2,
      "metadata": {
        "id": "GXe9U7U4eQGq"
      },
      "outputs": [],
      "source": [
        "year = salary_df['year']\n",
        "bed = salary_df['bed']\n",
        "bath = salary_df['bath']\n",
        "sqft = salary_df['sqft']"
      ]
    },
    {
      "cell_type": "markdown",
      "metadata": {
        "id": "xJNSkBM3cM9b"
      },
      "source": [
        "Regression with year"
      ]
    },
    {
      "cell_type": "code",
      "execution_count": 3,
      "metadata": {
        "colab": {
          "base_uri": "https://localhost:8080/",
          "height": 719
        },
        "id": "sAOuCcM-ZijT",
        "outputId": "2327b567-ee5c-4bbf-9cdf-e3e28b379d13"
      },
      "outputs": [
        {
          "name": "stdout",
          "output_type": "stream",
          "text": [
            "coefficients \t [979.45641452]\n",
            "intercept \t -1660782.51203517\n",
            "R^2 value \t 0.020152832542723265\n",
            "residuals \n",
            " 0      -20093.147588\n",
            "1        4543.703562\n",
            "2      -76219.445288\n",
            "3      -30442.706801\n",
            "4     -144959.014366\n",
            "           ...      \n",
            "495   -117494.665682\n",
            "496     60080.554712\n",
            "497    -62130.316998\n",
            "498    -65519.445288\n",
            "499     44257.293199\n",
            "Name: price, Length: 500, dtype: float64\n"
          ]
        },
        {
          "data": {
            "text/plain": [
              "<matplotlib.collections.PathCollection at 0x79e6d024dab0>"
            ]
          },
          "execution_count": 3,
          "metadata": {},
          "output_type": "execute_result"
        },
        {
          "data": {
            "image/png": "[encoded data removed]",
            "text/plain": [
              "<Figure size 640x480 with 1 Axes>"
            ]
          },
          "metadata": {},
          "output_type": "display_data"
        }
      ],
      "source": [
        "X = np.array([year]).T\n",
        "price = salary_df['price']\n",
        "\n",
        "regression = LinearRegression()\n",
        "regression.fit(X, price)\n",
        "model = regression.predict(X)\n",
        "\n",
        "print('coefficients \\t',regression.coef_)\n",
        "print('intercept \\t',regression.intercept_)\n",
        "print('R^2 value \\t',regression.score(X,price))\n",
        "print('residuals \\n',price-model)\n",
        "\n",
        "plt.scatter(year, price)"
      ]
    },
    {
      "cell_type": "code",
      "execution_count": 4,
      "metadata": {
        "colab": {
          "base_uri": "https://localhost:8080/",
          "height": 447
        },
        "id": "-EURwha4hvuk",
        "outputId": "be46ec99-f64b-46c3-f830-8f2f27df5cd8"
      },
      "outputs": [
        {
          "data": {
            "text/plain": [
              "[<matplotlib.lines.Line2D at 0x79e6cbf26590>]"
            ]
          },
          "execution_count": 4,
          "metadata": {},
          "output_type": "execute_result"
        },
        {
          "data": {
            "image/png": "[encoded data removed]",
            "text/plain": [
              "<Figure size 640x480 with 1 Axes>"
            ]
          },
          "metadata": {},
          "output_type": "display_data"
        }
      ],
      "source": [
        "years = year.unique()\n",
        "avg = []\n",
        "for x in years:\n",
        "  temp = salary_df[salary_df['year']==x]\n",
        "  temp = temp['price']\n",
        "  len = temp.size\n",
        "  sum = temp.sum()\n",
        "  temp_avg = sum / len\n",
        "  avg.append(temp_avg)\n",
        "data = np.array([years, avg]).T\n",
        "myFrame = pd.DataFrame(data, columns=['year', 'price'])\n",
        "\n",
        "regression = np.polyfit(years, avg, 1)\n",
        "model = np.poly1d(regression)\n",
        "\n",
        "res = avg-model(years)\n",
        "plt.scatter(years, avg)\n",
        "plt.plot(years, model(years))"
      ]
    },
    {
      "cell_type": "code",
      "execution_count": null,
      "metadata": {
        "colab": {
          "base_uri": "https://localhost:8080/",
          "height": 447
        },
        "id": "60fXljP8obM-",
        "outputId": "baf3443b-9c70-4a17-8c42-e8148426afb3"
      },
      "outputs": [
        {
          "data": {
            "text/plain": [
              "[<matplotlib.lines.Line2D at 0x7b97d008bbb0>]"
            ]
          },
          "execution_count": 70,
          "metadata": {},
          "output_type": "execute_result"
        },
        {
          "data": {
            "image/png": "[encoded data removed]",
            "text/plain": [
              "<Figure size 640x480 with 1 Axes>"
            ]
          },
          "metadata": {},
          "output_type": "display_data"
        }
      ],
      "source": [
        "# generating data for the future\n",
        "max= 2021\n",
        "dev = np.std(res)\n",
        "Y_temp = []\n",
        "price_temp = []\n",
        "for i in range(20):\n",
        "  year = max + i\n",
        "  price_pred = model(year)\n",
        "  bias = np.random.randn()\n",
        "  price_bias = price_pred+bias*dev\n",
        "  Y_temp.append(year)\n",
        "  price_temp.append(price_bias)\n",
        "\n",
        "years = np.append(years, Y_temp)\n",
        "avg = np.append(avg, price_temp)\n",
        "\n",
        "regression = np.polyfit(years, avg, 1)\n",
        "model = np.poly1d(regression)\n",
        "\n",
        "res = avg-model(years)\n",
        "plt.scatter(years, avg)\n",
        "plt.plot(years, model(years))"
      ]
    },
    {
      "cell_type": "markdown",
      "metadata": {
        "id": "UF6OODdZcRPg"
      },
      "source": [
        "Regression with bed"
      ]
    },
    {
      "cell_type": "code",
      "execution_count": 5,
      "metadata": {
        "colab": {
          "base_uri": "https://localhost:8080/"
        },
        "id": "jOvNpFWWcVJL",
        "outputId": "3d122b1c-3ed4-4b24-a296-1c24b0cc66d0"
      },
      "outputs": [
        {
          "name": "stdout",
          "output_type": "stream",
          "text": [
            "coefficients \t [103525.72153251]\n",
            "intercept \t 1137.0359097582987\n",
            "R^2 value \t 0.7933732361194773\n",
            "residuals \n",
            " 0     -74814.200507\n",
            "1     -19814.200507\n",
            "2      33311.521025\n",
            "3     -30314.200507\n",
            "4     -70688.478975\n",
            "           ...     \n",
            "495   -35388.478975\n",
            "496    66085.799493\n",
            "497   -75714.200507\n",
            "498    44011.521025\n",
            "499    44385.799493\n",
            "Name: price, Length: 500, dtype: float64\n"
          ]
        }
      ],
      "source": [
        "X = np.array([bed]).T\n",
        "\n",
        "regression = LinearRegression()\n",
        "regression.fit(X, price)\n",
        "model = regression.predict(X)\n",
        "\n",
        "print('coefficients \\t',regression.coef_)\n",
        "print('intercept \\t',regression.intercept_)\n",
        "print('R^2 value \\t',regression.score(X,price))\n",
        "print('residuals \\n',price-model)"
      ]
    },
    {
      "cell_type": "markdown",
      "metadata": {
        "id": "4jIHqYgRci7X"
      },
      "source": [
        "Regression with bath"
      ]
    },
    {
      "cell_type": "code",
      "execution_count": 6,
      "metadata": {
        "colab": {
          "base_uri": "https://localhost:8080/"
        },
        "id": "gierGbH7cnIt",
        "outputId": "229a67af-1e93-4c3b-f597-b88c68e1d0eb"
      },
      "outputs": [
        {
          "name": "stdout",
          "output_type": "stream",
          "text": [
            "coefficients \t [170380.05206356]\n",
            "intercept \t 33733.497271009604\n",
            "R^2 value \t 0.6270283029800351\n",
            "residuals \n",
            " 0      -52403.575366\n",
            "1        2596.424634\n",
            "2       37386.450665\n",
            "3       -7903.575366\n",
            "4     -151803.575366\n",
            "           ...      \n",
            "495   -116503.575366\n",
            "496     88496.424634\n",
            "497    -53303.575366\n",
            "498    -37103.575366\n",
            "499     66796.424634\n",
            "Name: price, Length: 500, dtype: float64\n"
          ]
        }
      ],
      "source": [
        "X = np.array([bath]).T\n",
        "\n",
        "regression = LinearRegression()\n",
        "regression.fit(X, price)\n",
        "model = regression.predict(X)\n",
        "\n",
        "print('coefficients \\t',regression.coef_)\n",
        "print('intercept \\t',regression.intercept_)\n",
        "print('R^2 value \\t',regression.score(X,price))\n",
        "print('residuals \\n',price-model)"
      ]
    },
    {
      "cell_type": "markdown",
      "metadata": {
        "id": "1ytB1NgMctdM"
      },
      "source": [
        "Regression with sqft"
      ]
    },
    {
      "cell_type": "code",
      "execution_count": 7,
      "metadata": {
        "colab": {
          "base_uri": "https://localhost:8080/"
        },
        "id": "HUCUkuS5cyoc",
        "outputId": "faf001bc-e066-4f80-ca6c-108ed7a8faf4"
      },
      "outputs": [
        {
          "name": "stdout",
          "output_type": "stream",
          "text": [
            "coefficients \t [104.32339894]\n",
            "intercept \t 13256.977723349759\n",
            "R^2 value \t 0.8997967727565468\n",
            "residuals \n",
            " 0     -100802.748435\n",
            "1      -46845.982425\n",
            "2       18552.990402\n",
            "3       -8313.984922\n",
            "4      -35371.778106\n",
            "           ...      \n",
            "495    -14677.053958\n",
            "496     36967.549597\n",
            "497    -16157.561302\n",
            "498     25080.054444\n",
            "499     21526.953533\n",
            "Name: price, Length: 500, dtype: float64\n"
          ]
        }
      ],
      "source": [
        "X = np.array([sqft]).T\n",
        "\n",
        "regression = LinearRegression()\n",
        "regression.fit(X, price)\n",
        "model = regression.predict(X)\n",
        "\n",
        "print('coefficients \\t',regression.coef_)\n",
        "print('intercept \\t',regression.intercept_)\n",
        "print('R^2 value \\t',regression.score(X,price))\n",
        "print('residuals \\n',price-model)"
      ]
    },
    {
      "cell_type": "markdown",
      "metadata": {
        "id": "nfFVZkqudMMs"
      },
      "source": [
        "Regression with parameters"
      ]
    },
    {
      "cell_type": "code",
      "execution_count": 8,
      "metadata": {
        "colab": {
          "base_uri": "https://localhost:8080/"
        },
        "id": "DxbVeo3zdOyP",
        "outputId": "1de12b72-dc30-4263-e463-2acfb13deb9a"
      },
      "outputs": [
        {
          "name": "stdout",
          "output_type": "stream",
          "text": [
            "coefficients \t [ 1553.15847504 12022.60289912  8760.30619558    92.24865144]\n",
            "intercept \t -3118549.5690481192\n",
            "R^2 value \t 0.951983388675247\n",
            "residuals \n",
            " 0     -21736.299041\n",
            "1     -15806.698281\n",
            "2       4444.148083\n",
            "3     -21778.793983\n",
            "4      -3742.947224\n",
            "           ...     \n",
            "495     6216.973774\n",
            "496    20100.415964\n",
            "497   -12225.060815\n",
            "498     7074.048928\n",
            "499    13254.285900\n",
            "Name: price, Length: 500, dtype: float64\n"
          ]
        }
      ],
      "source": [
        "X = np.array([year, bed, bath, sqft]).T\n",
        "\n",
        "regression = LinearRegression()\n",
        "regression.fit(X, price)\n",
        "model = regression.predict(X)\n",
        "\n",
        "print('coefficients \\t',regression.coef_)\n",
        "print('intercept \\t',regression.intercept_)\n",
        "print('R^2 value \\t',regression.score(X,price))\n",
        "print('residuals \\n',price-model)"
      ]
    },
    {
      "cell_type": "markdown",
      "metadata": {
        "id": "nCZRfno5K1QF"
      },
      "source": [
        "whats the proportion of each bed size apartment volume in the market\n",
        "\n",
        "do the avg price of each apartment size (corelation between price and each size)\n",
        "\n",
        "bath for me - how bath affects the price of each ap-size\n",
        "do the propertion of bath.size\n",
        "\n",
        "what's the price of sqft in each apartment size\n"
      ]
    }
  ],
  "metadata": {
    "colab": {
      "provenance": []
    },
    "kernelspec": {
      "display_name": "Python 3",
      "name": "python3"
    },
    "language_info": {
      "name": "python"
    }
  },
  "nbformat": 4,
  "nbformat_minor": 0
}
