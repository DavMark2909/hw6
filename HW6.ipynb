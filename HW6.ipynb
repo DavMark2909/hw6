{
  "cells": [
    {
      "cell_type": "code",
      "execution_count": 56,
      "metadata": {
        "colab": {
          "base_uri": "https://localhost:8080/",
          "height": 419
        },
        "id": "mCJhbn2pU3Fb",
        "outputId": "0ec477ab-e19b-4eef-8c50-990359d8d93a"
      },
      "outputs": [
        {
          "data": {
            "text/html": [
              "<div>\n",
              "<style scoped>\n",
              "    .dataframe tbody tr th:only-of-type {\n",
              "        vertical-align: middle;\n",
              "    }\n",
              "\n",
              "    .dataframe tbody tr th {\n",
              "        vertical-align: top;\n",
              "    }\n",
              "\n",
              "    .dataframe thead th {\n",
              "        text-align: right;\n",
              "    }\n",
              "</style>\n",
              "<table border=\"1\" class=\"dataframe\">\n",
              "  <thead>\n",
              "    <tr style=\"text-align: right;\">\n",
              "      <th></th>\n",
              "      <th>year</th>\n",
              "      <th>bed</th>\n",
              "      <th>bath</th>\n",
              "      <th>sqft</th>\n",
              "      <th>price</th>\n",
              "    </tr>\n",
              "  </thead>\n",
              "  <tbody>\n",
              "    <tr>\n",
              "      <th>0</th>\n",
              "      <td>1958</td>\n",
              "      <td>3</td>\n",
              "      <td>1.5</td>\n",
              "      <td>3110</td>\n",
              "      <td>236900</td>\n",
              "    </tr>\n",
              "    <tr>\n",
              "      <th>1</th>\n",
              "      <td>1989</td>\n",
              "      <td>3</td>\n",
              "      <td>1.5</td>\n",
              "      <td>3120</td>\n",
              "      <td>291900</td>\n",
              "    </tr>\n",
              "    <tr>\n",
              "      <th>2</th>\n",
              "      <td>2020</td>\n",
              "      <td>2</td>\n",
              "      <td>1.0</td>\n",
              "      <td>2010</td>\n",
              "      <td>241500</td>\n",
              "    </tr>\n",
              "    <tr>\n",
              "      <th>3</th>\n",
              "      <td>2014</td>\n",
              "      <td>3</td>\n",
              "      <td>1.5</td>\n",
              "      <td>2650</td>\n",
              "      <td>281400</td>\n",
              "    </tr>\n",
              "    <tr>\n",
              "      <th>4</th>\n",
              "      <td>1984</td>\n",
              "      <td>2</td>\n",
              "      <td>1.5</td>\n",
              "      <td>1530</td>\n",
              "      <td>137500</td>\n",
              "    </tr>\n",
              "    <tr>\n",
              "      <th>...</th>\n",
              "      <td>...</td>\n",
              "      <td>...</td>\n",
              "      <td>...</td>\n",
              "      <td>...</td>\n",
              "      <td>...</td>\n",
              "    </tr>\n",
              "    <tr>\n",
              "      <th>495</th>\n",
              "      <td>1992</td>\n",
              "      <td>2</td>\n",
              "      <td>1.5</td>\n",
              "      <td>1670</td>\n",
              "      <td>172800</td>\n",
              "    </tr>\n",
              "    <tr>\n",
              "      <th>496</th>\n",
              "      <td>2020</td>\n",
              "      <td>3</td>\n",
              "      <td>1.5</td>\n",
              "      <td>3140</td>\n",
              "      <td>377800</td>\n",
              "    </tr>\n",
              "    <tr>\n",
              "      <th>497</th>\n",
              "      <td>2000</td>\n",
              "      <td>3</td>\n",
              "      <td>1.5</td>\n",
              "      <td>2290</td>\n",
              "      <td>236000</td>\n",
              "    </tr>\n",
              "    <tr>\n",
              "      <th>498</th>\n",
              "      <td>2020</td>\n",
              "      <td>2</td>\n",
              "      <td>1.5</td>\n",
              "      <td>2050</td>\n",
              "      <td>252200</td>\n",
              "    </tr>\n",
              "    <tr>\n",
              "      <th>499</th>\n",
              "      <td>2014</td>\n",
              "      <td>3</td>\n",
              "      <td>1.5</td>\n",
              "      <td>3080</td>\n",
              "      <td>356100</td>\n",
              "    </tr>\n",
              "  </tbody>\n",
              "</table>\n",
              "<p>500 rows × 5 columns</p>\n",
              "</div>"
            ],
            "text/plain": [
              "     year  bed  bath  sqft   price\n",
              "0    1958    3   1.5  3110  236900\n",
              "1    1989    3   1.5  3120  291900\n",
              "2    2020    2   1.0  2010  241500\n",
              "3    2014    3   1.5  2650  281400\n",
              "4    1984    2   1.5  1530  137500\n",
              "..    ...  ...   ...   ...     ...\n",
              "495  1992    2   1.5  1670  172800\n",
              "496  2020    3   1.5  3140  377800\n",
              "497  2000    3   1.5  2290  236000\n",
              "498  2020    2   1.5  2050  252200\n",
              "499  2014    3   1.5  3080  356100\n",
              "\n",
              "[500 rows x 5 columns]"
            ]
          },
          "execution_count": 56,
          "metadata": {},
          "output_type": "execute_result"
        }
      ],
      "source": [
        "import numpy as np\n",
        "import pandas as pd\n",
        "import matplotlib.pyplot as plt\n",
        "from sklearn.linear_model import LinearRegression\n",
        "\n",
        "real_estate_df=pd.read_csv('real_estate_data.csv')\n",
        "real_estate_df"
      ]
    },
    {
      "cell_type": "code",
      "execution_count": 57,
      "metadata": {
        "id": "GXe9U7U4eQGq"
      },
      "outputs": [],
      "source": [
        "year = real_estate_df['year']\n",
        "bed = real_estate_df['bed']\n",
        "bath = real_estate_df['bath']\n",
        "sqft = real_estate_df['sqft']"
      ]
    },
    {
      "cell_type": "markdown",
      "metadata": {
        "id": "xJNSkBM3cM9b"
      },
      "source": [
        "Regression with year"
      ]
    },
    {
      "cell_type": "code",
      "execution_count": 58,
      "metadata": {
        "colab": {
          "base_uri": "https://localhost:8080/",
          "height": 719
        },
        "id": "sAOuCcM-ZijT",
        "outputId": "2327b567-ee5c-4bbf-9cdf-e3e28b379d13"
      },
      "outputs": [
        {
          "name": "stdout",
          "output_type": "stream",
          "text": [
            "coefficients \t [979.45641452]\n",
            "intercept \t -1660782.5120351715\n",
            "R^2 value \t 0.020152832542723487\n",
            "residuals \n",
            " 0      -20093.147588\n",
            "1        4543.703562\n",
            "2      -76219.445288\n",
            "3      -30442.706801\n",
            "4     -144959.014366\n",
            "           ...      \n",
            "495   -117494.665682\n",
            "496     60080.554712\n",
            "497    -62130.316998\n",
            "498    -65519.445288\n",
            "499     44257.293199\n",
            "Name: price, Length: 500, dtype: float64\n"
          ]
        },
        {
          "data": {
            "text/plain": [
              "<matplotlib.collections.PathCollection at 0x16e32f5d0>"
            ]
          },
          "execution_count": 58,
          "metadata": {},
          "output_type": "execute_result"
        },
        {
          "data": {
            "image/png": "[encoded data removed]",
            "text/plain": [
              "<Figure size 640x480 with 1 Axes>"
            ]
          },
          "metadata": {},
          "output_type": "display_data"
        }
      ],
      "source": [
        "X = np.array([year]).T\n",
        "price = salary_df['price']\n",
        "\n",
        "regression = LinearRegression()\n",
        "regression.fit(X, price)\n",
        "model = regression.predict(X)\n",
        "\n",
        "print('coefficients \\t',regression.coef_)\n",
        "print('intercept \\t',regression.intercept_)\n",
        "print('R^2 value \\t',regression.score(X,price))\n",
        "print('residuals \\n',price-model)\n",
        "\n",
        "plt.scatter(year, price)"
      ]
    },
    {
      "cell_type": "code",
      "execution_count": 59,
      "metadata": {
        "colab": {
          "base_uri": "https://localhost:8080/",
          "height": 447
        },
        "id": "-EURwha4hvuk",
        "outputId": "be46ec99-f64b-46c3-f830-8f2f27df5cd8"
      },
      "outputs": [
        {
          "data": {
            "text/plain": [
              "[<matplotlib.lines.Line2D at 0x16e463650>]"
            ]
          },
          "execution_count": 59,
          "metadata": {},
          "output_type": "execute_result"
        },
        {
          "data": {
            "image/png": "[encoded data removed]",
            "text/plain": [
              "<Figure size 640x480 with 1 Axes>"
            ]
          },
          "metadata": {},
          "output_type": "display_data"
        }
      ],
      "source": [
        "years = year.unique()\n",
        "avg = []\n",
        "for x in years:\n",
        "  temp = salary_df[salary_df['year']==x]\n",
        "  temp = temp['price']\n",
        "  len = temp.size\n",
        "  sum = temp.sum()\n",
        "  temp_avg = sum / len\n",
        "  avg.append(temp_avg)\n",
        "data = np.array([years, avg]).T\n",
        "myFrame = pd.DataFrame(data, columns=['year', 'price'])\n",
        "\n",
        "regression = np.polyfit(years, avg, 1)\n",
        "model = np.poly1d(regression)\n",
        "\n",
        "res = avg-model(years)\n",
        "plt.scatter(years, avg)\n",
        "plt.plot(years, model(years))"
      ]
    },
    {
      "cell_type": "code",
      "execution_count": 60,
      "metadata": {
        "colab": {
          "base_uri": "https://localhost:8080/",
          "height": 447
        },
        "id": "60fXljP8obM-",
        "outputId": "baf3443b-9c70-4a17-8c42-e8148426afb3"
      },
      "outputs": [
        {
          "data": {
            "text/plain": [
              "[<matplotlib.lines.Line2D at 0x16e491650>]"
            ]
          },
          "execution_count": 60,
          "metadata": {},
          "output_type": "execute_result"
        },
        {
          "data": {
            "image/png": "[encoded data removed]",
            "text/plain": [
              "<Figure size 640x480 with 1 Axes>"
            ]
          },
          "metadata": {},
          "output_type": "display_data"
        }
      ],
      "source": [
        "# generating data for the future\n",
        "max= 2021\n",
        "dev = np.std(res)\n",
        "Y_temp = []\n",
        "price_temp = []\n",
        "for i in range(20):\n",
        "  year = max + i\n",
        "  price_pred = model(year)\n",
        "  bias = np.random.randn()\n",
        "  price_bias = price_pred+bias*dev\n",
        "  Y_temp.append(year)\n",
        "  price_temp.append(price_bias)\n",
        "\n",
        "years = np.append(years, Y_temp)\n",
        "avg = np.append(avg, price_temp)\n",
        "\n",
        "regression = np.polyfit(years, avg, 1)\n",
        "model = np.poly1d(regression)\n",
        "\n",
        "res = avg-model(years)\n",
        "plt.scatter(years, avg)\n",
        "plt.plot(years, model(years))"
      ]
    },
    {
      "cell_type": "markdown",
      "metadata": {
        "id": "UF6OODdZcRPg"
      },
      "source": [
        "Regression with bed"
      ]
    },
    {
      "cell_type": "code",
      "execution_count": 61,
      "metadata": {
        "colab": {
          "base_uri": "https://localhost:8080/"
        },
        "id": "jOvNpFWWcVJL",
        "outputId": "3d122b1c-3ed4-4b24-a296-1c24b0cc66d0"
      },
      "outputs": [
        {
          "name": "stdout",
          "output_type": "stream",
          "text": [
            "coefficients \t [103525.72153251]\n",
            "intercept \t 1137.0359097592882\n",
            "R^2 value \t 0.7933732361194773\n",
            "residuals \n",
            " 0     -74814.200507\n",
            "1     -19814.200507\n",
            "2      33311.521025\n",
            "3     -30314.200507\n",
            "4     -70688.478975\n",
            "           ...     \n",
            "495   -35388.478975\n",
            "496    66085.799493\n",
            "497   -75714.200507\n",
            "498    44011.521025\n",
            "499    44385.799493\n",
            "Name: price, Length: 500, dtype: float64\n"
          ]
        }
      ],
      "source": [
        "X = np.array([bed]).T\n",
        "\n",
        "regression = LinearRegression()\n",
        "regression.fit(X, price)\n",
        "model = regression.predict(X)\n",
        "\n",
        "print('coefficients \\t',regression.coef_)\n",
        "print('intercept \\t',regression.intercept_)\n",
        "print('R^2 value \\t',regression.score(X,price))\n",
        "print('residuals \\n',price-model)"
      ]
    },
    {
      "cell_type": "markdown",
      "metadata": {
        "id": "4jIHqYgRci7X"
      },
      "source": [
        "Regression with bath"
      ]
    },
    {
      "cell_type": "code",
      "execution_count": 62,
      "metadata": {
        "colab": {
          "base_uri": "https://localhost:8080/"
        },
        "id": "gierGbH7cnIt",
        "outputId": "229a67af-1e93-4c3b-f597-b88c68e1d0eb"
      },
      "outputs": [
        {
          "name": "stdout",
          "output_type": "stream",
          "text": [
            "coefficients \t [170380.05206356]\n",
            "intercept \t 33733.497271008615\n",
            "R^2 value \t 0.6270283029800351\n",
            "residuals \n",
            " 0      -52403.575366\n",
            "1        2596.424634\n",
            "2       37386.450665\n",
            "3       -7903.575366\n",
            "4     -151803.575366\n",
            "           ...      \n",
            "495   -116503.575366\n",
            "496     88496.424634\n",
            "497    -53303.575366\n",
            "498    -37103.575366\n",
            "499     66796.424634\n",
            "Name: price, Length: 500, dtype: float64\n"
          ]
        }
      ],
      "source": [
        "X = np.array([bath]).T\n",
        "\n",
        "regression = LinearRegression()\n",
        "regression.fit(X, price)\n",
        "model = regression.predict(X)\n",
        "\n",
        "print('coefficients \\t',regression.coef_)\n",
        "print('intercept \\t',regression.intercept_)\n",
        "print('R^2 value \\t',regression.score(X,price))\n",
        "print('residuals \\n',price-model)"
      ]
    },
    {
      "cell_type": "markdown",
      "metadata": {
        "id": "1ytB1NgMctdM"
      },
      "source": [
        "Regression with sqft"
      ]
    },
    {
      "cell_type": "code",
      "execution_count": 63,
      "metadata": {
        "colab": {
          "base_uri": "https://localhost:8080/"
        },
        "id": "HUCUkuS5cyoc",
        "outputId": "faf001bc-e066-4f80-ca6c-108ed7a8faf4"
      },
      "outputs": [
        {
          "name": "stdout",
          "output_type": "stream",
          "text": [
            "coefficients \t [104.32339894]\n",
            "intercept \t 13256.977723349992\n",
            "R^2 value \t 0.8997967727565468\n",
            "residuals \n",
            " 0     -100802.748435\n",
            "1      -46845.982425\n",
            "2       18552.990402\n",
            "3       -8313.984922\n",
            "4      -35371.778106\n",
            "           ...      \n",
            "495    -14677.053958\n",
            "496     36967.549597\n",
            "497    -16157.561302\n",
            "498     25080.054444\n",
            "499     21526.953533\n",
            "Name: price, Length: 500, dtype: float64\n"
          ]
        }
      ],
      "source": [
        "X = np.array([sqft]).T\n",
        "\n",
        "regression = LinearRegression()\n",
        "regression.fit(X, price)\n",
        "model = regression.predict(X)\n",
        "\n",
        "print('coefficients \\t',regression.coef_)\n",
        "print('intercept \\t',regression.intercept_)\n",
        "print('R^2 value \\t',regression.score(X,price))\n",
        "print('residuals \\n',price-model)"
      ]
    },
    {
      "cell_type": "markdown",
      "metadata": {
        "id": "nfFVZkqudMMs"
      },
      "source": [
        "Regression with parameters"
      ]
    },
    {
      "cell_type": "code",
      "execution_count": 64,
      "metadata": {
        "colab": {
          "base_uri": "https://localhost:8080/"
        },
        "id": "DxbVeo3zdOyP",
        "outputId": "1de12b72-dc30-4263-e463-2acfb13deb9a"
      },
      "outputs": [
        {
          "ename": "ValueError",
          "evalue": "setting an array element with a sequence. The requested array has an inhomogeneous shape after 1 dimensions. The detected shape was (4,) + inhomogeneous part.",
          "output_type": "error",
          "traceback": [
            "\u001b[0;31m---------------------------------------------------------------------------\u001b[0m",
            "\u001b[0;31mValueError\u001b[0m                                Traceback (most recent call last)",
            "\u001b[1;32m/Users/tdle26/Library/CloudStorage/Box-Box/Le_csc271/hw6/HW6.ipynb Cell 14\u001b[0m line \u001b[0;36m1\n\u001b[0;32m----> <a href='vscode-notebook-cell:/Users/tdle26/Library/CloudStorage/Box-Box/Le_csc271/hw6/HW6.ipynb#Y101sZmlsZQ%3D%3D?line=0'>1</a>\u001b[0m X \u001b[39m=\u001b[39m np\u001b[39m.\u001b[39;49marray([year, bed, bath, sqft])\u001b[39m.\u001b[39mT\n\u001b[1;32m      <a href='vscode-notebook-cell:/Users/tdle26/Library/CloudStorage/Box-Box/Le_csc271/hw6/HW6.ipynb#Y101sZmlsZQ%3D%3D?line=2'>3</a>\u001b[0m regression \u001b[39m=\u001b[39m LinearRegression()\n\u001b[1;32m      <a href='vscode-notebook-cell:/Users/tdle26/Library/CloudStorage/Box-Box/Le_csc271/hw6/HW6.ipynb#Y101sZmlsZQ%3D%3D?line=3'>4</a>\u001b[0m regression\u001b[39m.\u001b[39mfit(X, price)\n",
            "\u001b[0;31mValueError\u001b[0m: setting an array element with a sequence. The requested array has an inhomogeneous shape after 1 dimensions. The detected shape was (4,) + inhomogeneous part."
          ]
        }
      ],
      "source": [
        "X = np.array([year, bed, bath, sqft]).T\n",
        "\n",
        "regression = LinearRegression()\n",
        "regression.fit(X, price)\n",
        "model = regression.predict(X)\n",
        "\n",
        "print('coefficients \\t',regression.coef_)\n",
        "print('intercept \\t',regression.intercept_)\n",
        "print('R^2 value \\t',regression.score(X,price))\n",
        "print('residuals \\n',price-model)"
      ]
    },
    {
      "cell_type": "markdown",
      "metadata": {
        "id": "nCZRfno5K1QF"
      },
      "source": [
        "whats the proportion of each bed size apartment volume in the market\n",
        "\n",
        "do the avg price of each apartment size (corelation between price and each size)\n",
        "\n",
        "bath for me - how bath affects the price of each ap-size\n",
        "do the propertion of bath.size\n",
        "\n",
        "what's the price of sqft in each apartment size\n"
      ]
    },
    {
      "cell_type": "code",
      "execution_count": null,
      "metadata": {},
      "outputs": [
        {
          "name": "stdout",
          "output_type": "stream",
          "text": [
            "208058.38150289017\n",
            "312734.23423423426\n",
            "409887.5\n",
            "524263.63636363635\n"
          ]
        }
      ],
      "source": [
        "#average price of each kind of bedroom\n",
        "avg_two_bedroom = real_estate_df[real_estate_df['bed'] == 2]['price'].mean()\n",
        "avg_three_bedroom = real_estate_df[real_estate_df['bed'] == 3]['price'].mean()\n",
        "avg_four_bedroom = real_estate_df[real_estate_df['bed'] == 4]['price'].mean()\n",
        "avg_five_bedroom = real_estate_df[real_estate_df['bed'] == 5]['price'].mean()\n",
        "\n",
        "print(avg_two_bedroom)\n",
        "print(avg_three_bedroom)\n",
        "print(avg_four_bedroom)\n",
        "print(avg_five_bedroom)"
      ]
    },
    {
      "cell_type": "code",
      "execution_count": null,
      "metadata": {},
      "outputs": [],
      "source": []
    }
  ],
  "metadata": {
    "colab": {
      "provenance": []
    },
    "kernelspec": {
      "display_name": "Python 3",
      "name": "python3"
    },
    "language_info": {
      "codemirror_mode": {
        "name": "ipython",
        "version": 3
      },
      "file_extension": ".py",
      "mimetype": "text/x-python",
      "name": "python",
      "nbconvert_exporter": "python",
      "pygments_lexer": "ipython3",
      "version": "3.11.4"
    }
  },
  "nbformat": 4,
  "nbformat_minor": 0
}
